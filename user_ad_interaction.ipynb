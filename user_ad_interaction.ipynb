{
 "cells": [
  {
   "cell_type": "code",
   "execution_count": null,
   "metadata": {},
   "outputs": [],
   "source": [
    "import import_ipynb\n",
    "\n",
    "from keras.callbacks import ModelCheckpoint, Callback\n",
    "from sklearn.preprocessing import StandardScaler\n",
    "from tensorflow.keras.utils import plot_model\n",
    "from IPython.display import display, Image\n",
    "from keras.layers import Input, Dense\n",
    "from keras.models import Model\n",
    "import tensorflow as tf\n",
    "import numpy as np\n",
    "import datetime\n",
    "import dataset\n",
    "import tools\n",
    "import users\n",
    "import time\n",
    "import ads\n",
    "import os"
   ]
  },
  {
   "cell_type": "code",
   "execution_count": null,
   "metadata": {},
   "outputs": [],
   "source": [
    "root_directories = [\"ADS16_Benchmark_part1\", \"ADS16_Benchmark_part2\"]"
   ]
  },
  {
   "cell_type": "code",
   "execution_count": null,
   "metadata": {},
   "outputs": [],
   "source": [
    "def load_user_and_ad_ftrs(root_directories, try_load_files=True, save_files=True):\n",
    "    ad_ftrs_path = os.path.join(\"data\", \"ad_ftrs.npy\")\n",
    "    user_ftrs_and_ratings_path = os.path.join(\"data\", \"user_ftrs_and_ratings.npz\")\n",
    "\n",
    "    if try_load_files and os.path.exists(ad_ftrs_path):\n",
    "        ad_ftrs = np.load(ad_ftrs_path)\n",
    "    else:\n",
    "        ad_ftrs = ads.load_ftrs(root_directories)\n",
    "        if save_files:\n",
    "            np.save(ad_ftrs_path, ad_ftrs)\n",
    "    \n",
    "    if try_load_files and os.path.exists(user_ftrs_and_ratings_path):\n",
    "        with np.load(user_ftrs_and_ratings_path) as user_ftrs_and_ratings:\n",
    "            user_ftrs = user_ftrs_and_ratings[\"user_ftrs\"]\n",
    "            ratings = user_ftrs_and_ratings[\"ratings\"]\n",
    "    else:\n",
    "        raw_user_ftrs, ratings = users.load_raw_ftrs(root_directories)\n",
    "        *_, user_ftrs = users.calculate_pca_ftrs(raw_user_ftrs)\n",
    "        if save_files:\n",
    "            np.savez(user_ftrs_and_ratings_path, user_ftrs=user_ftrs, ratings=ratings)\n",
    "    \n",
    "    return ad_ftrs, user_ftrs, ratings\n",
    "\n",
    "if __name__ == \"__main__\":\n",
    "    ad_ftrs, user_ftrs, ratings = load_user_and_ad_ftrs(root_directories)"
   ]
  },
  {
   "cell_type": "code",
   "execution_count": null,
   "metadata": {},
   "outputs": [],
   "source": [
    "def std_dev_pct_error(y_true, y_pred):\n",
    "    std_true = tf.math.reduce_std(y_true)\n",
    "    std_pred = tf.math.reduce_std(y_pred)\n",
    "    return (std_pred - std_true)/std_pred if std_pred > 0 else tf.constant(np.nan)\n",
    "\n",
    "def create_model():\n",
    "    ad_ftrs, user_ftrs, _ = load_user_and_ad_ftrs(root_directories)\n",
    "\n",
    "    inputs = Input((user_ftrs.shape[1]+ad_ftrs.shape[1]))\n",
    "    output = inputs\n",
    "    output = Dense(5, activation=\"relu\", kernel_regularizer=\"l2\")(output)\n",
    "    output = Dense(5, activation=\"relu\", kernel_regularizer=\"l2\")(output)\n",
    "    output = Dense(1, kernel_regularizer=\"l2\")(output)\n",
    "\n",
    "    model = Model(inputs=[inputs], outputs=[output])\n",
    "    return model\n",
    "\n",
    "if __name__ == \"__main__\":\n",
    "    model = create_model()\n",
    "    model.compile(optimizer=\"adam\", loss=\"mse\", metrics=[\"mae\", std_dev_pct_error])\n",
    "    model.summary()\n",
    "    model_plot_filename = \"user_ad_interaction_model.png\"\n",
    "    plot_model(model, to_file=model_plot_filename, show_shapes=True, show_layer_activations=True)\n",
    "    display(Image(model_plot_filename))\n",
    "    "
   ]
  },
  {
   "cell_type": "code",
   "execution_count": null,
   "metadata": {},
   "outputs": [],
   "source": [
    "if __name__ == \"__main__\":\n",
    "    X = tools.ftr_cartesian_product(user_ftrs, ad_ftrs)\n",
    "    ratings_normalizer = StandardScaler()\n",
    "    Y = ratings_normalizer.fit_transform(ratings.flatten()[:, np.newaxis])[:,0]\n",
    "    print(X.shape)\n",
    "    print(Y.shape)"
   ]
  },
  {
   "cell_type": "code",
   "execution_count": null,
   "metadata": {},
   "outputs": [],
   "source": [
    "class Printer(Callback):\n",
    "    def __init__(self):\n",
    "        super().__init__()\n",
    "        self.last_l = 0\n",
    "\n",
    "    def on_epoch_end(self, epoch, logs=None):\n",
    "        s = f\"Epoch {epoch}\"\n",
    "        if logs is not None:\n",
    "            log_strings = []\n",
    "            for k, v in logs.items():\n",
    "                log_strings.append(f\"{k}={v:.5f}\")\n",
    "            s += f\": {', '.join(log_strings)}\"\n",
    "        l = len(s)\n",
    "        padding = max(0, self.last_l - l)\n",
    "        self.last_l = l\n",
    "        print(s, end=\" \"*padding + \"\\r\")\n",
    "    \n",
    "    def on_train_end(self, logs=None):\n",
    "        print(\"\")\n",
    "\n",
    "\n",
    "if __name__ == \"__main__\":\n",
    "    checkpoints_dir=\"user_ad_interaction_model_checkpoints\"\n",
    "    filepath = os.path.join(checkpoints_dir, \"model-{epoch:06d}-{val_loss:06f}.hdf5\")\n",
    "    checkpoint = ModelCheckpoint(filepath, monitor=[\"val_loss\"], save_weights_only=True, verbose=0, save_best_only=False, mode=\"min\")\n",
    "\n",
    "    log_dir = \"logs/fit/\" + datetime.datetime.now().strftime(\"%Y-%m-%d_%H-%M-%S\")\n",
    "    tensorboard_callback = tf.keras.callbacks.TensorBoard(log_dir=log_dir, histogram_freq=1)\n",
    "\n",
    "    printer = Printer()"
   ]
  },
  {
   "cell_type": "code",
   "execution_count": null,
   "metadata": {},
   "outputs": [],
   "source": [
    "if __name__ == \"__main__\":\n",
    "    batch_size = 32\n",
    "    epochs = 1000\n",
    "\n",
    "    if not os.path.isdir(checkpoints_dir):\n",
    "        os.makedirs(checkpoints_dir)\n",
    "\n",
    "    try:\n",
    "        model.fit(\n",
    "            X,\n",
    "            Y,\n",
    "            batch_size=batch_size,\n",
    "            verbose=0,\n",
    "            shuffle=True,\n",
    "            validation_split=0.2,\n",
    "            epochs=epochs,\n",
    "            callbacks=[tensorboard_callback, checkpoint, printer]\n",
    "        )\n",
    "    except KeyboardInterrupt:\n",
    "        pass"
   ]
  }
 ],
 "metadata": {
  "interpreter": {
   "hash": "fe9152bf2f574327d6e225fe0caf6c004889fb08c66ba1e27720217847b14197"
  },
  "kernelspec": {
   "display_name": "Python 3.9.4 64-bit",
   "language": "python",
   "name": "python3"
  },
  "language_info": {
   "codemirror_mode": {
    "name": "ipython",
    "version": 3
   },
   "file_extension": ".py",
   "mimetype": "text/x-python",
   "name": "python",
   "nbconvert_exporter": "python",
   "pygments_lexer": "ipython3",
   "version": "3.9.4"
  },
  "orig_nbformat": 4
 },
 "nbformat": 4,
 "nbformat_minor": 2
}

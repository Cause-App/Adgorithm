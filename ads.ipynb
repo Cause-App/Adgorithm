{
 "cells": [
  {
   "cell_type": "code",
   "execution_count": 2,
   "metadata": {},
   "outputs": [],
   "source": [
    "import import_ipynb\n",
    "\n",
    "import numpy as np\n",
    "import dataset\n",
    "import glove"
   ]
  },
  {
   "cell_type": "code",
   "execution_count": 3,
   "metadata": {},
   "outputs": [],
   "source": [
    "root_directories = [\"ADS16_Benchmark_part1\", \"ADS16_Benchmark_part2\"]"
   ]
  },
  {
   "cell_type": "code",
   "execution_count": 7,
   "metadata": {},
   "outputs": [
    {
     "name": "stdout",
     "output_type": "stream",
     "text": [
      "Loading word embeddings...\n",
      "Done loading word embeddings\n",
      "Loaded category 20/20\n"
     ]
    }
   ],
   "source": [
    "def load_ftrs(root_directories, max_embedding_dim=50, words_per_ad=20, verbose=True):\n",
    "    categories_list = []\n",
    "    text_vectors_list = []\n",
    "\n",
    "    if verbose:\n",
    "        print(\"Loading word embeddings...\")\n",
    "    emb_ftrs, emb_word_indices = glove.load_vectors(max_embedding_dim=max_embedding_dim, verbose=False)\n",
    "    if verbose:\n",
    "        print(\"Done loading word embeddings\")\n",
    "\n",
    "    ad_categories = list(dataset.ad_category_iterator(root_directories))\n",
    "    last_category_id = ad_categories[-1][0]\n",
    "    for (\n",
    "        category_id,\n",
    "        category_one_hot,\n",
    "        texts\n",
    "    ) in ad_categories:\n",
    "        categories_list.append(np.broadcast_to(category_one_hot, (len(texts), *category_one_hot.shape)))\n",
    "        embeddings = glove.embed(texts, emb_ftrs, emb_word_indices, words_per_sample=words_per_ad)\n",
    "        embeddings = embeddings.reshape((len(texts), np.product(embeddings.shape[1:])))\n",
    "        text_vectors_list.append(embeddings)\n",
    "        if verbose:\n",
    "            print(f\"Loaded category {category_id}/{last_category_id}\", end=\"\\r\")\n",
    "    if verbose:\n",
    "        print(\"\")\n",
    "    \n",
    "    categories_list = np.concatenate(categories_list, axis=0)\n",
    "    text_vectors_list = np.concatenate(text_vectors_list, axis=0)\n",
    "\n",
    "    ftrs = np.concatenate([categories_list, text_vectors_list], axis=-1)\n",
    "\n",
    "    return ftrs\n",
    "\n",
    "if __name__ == \"__main__\":\n",
    "    ftrs = load_ftrs(root_directories)"
   ]
  }
 ],
 "metadata": {
  "interpreter": {
   "hash": "fe9152bf2f574327d6e225fe0caf6c004889fb08c66ba1e27720217847b14197"
  },
  "kernelspec": {
   "display_name": "Python 3.9.4 64-bit",
   "language": "python",
   "name": "python3"
  },
  "language_info": {
   "codemirror_mode": {
    "name": "ipython",
    "version": 3
   },
   "file_extension": ".py",
   "mimetype": "text/x-python",
   "name": "python",
   "nbconvert_exporter": "python",
   "pygments_lexer": "ipython3",
   "version": "3.9.4"
  },
  "orig_nbformat": 4
 },
 "nbformat": 4,
 "nbformat_minor": 2
}
